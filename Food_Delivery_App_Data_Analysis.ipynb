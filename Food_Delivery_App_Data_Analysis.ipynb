{
 "cells": [
  {
   "cell_type": "markdown",
   "id": "18f0d38f",
   "metadata": {},
   "source": [
    "## Importing Libraries"
   ]
  },
  {
   "cell_type": "code",
   "execution_count": 1,
   "id": "a173e600",
   "metadata": {},
   "outputs": [],
   "source": [
    "import pandas as pd\n",
    "import numpy as np\n",
    "import warnings\n",
    "warnings.filterwarnings(\"ignore\")\n",
    "import re"
   ]
  },
  {
   "cell_type": "code",
   "execution_count": 2,
   "id": "0faa656c",
   "metadata": {},
   "outputs": [],
   "source": [
    "hotels=pd.read_csv(\"C:\\\\Users\\\\user\\\\Downloads\\\\zomato.csv\")"
   ]
  },
  
  {
   "cell_type": "markdown",
   "id": "2ccc5e71",
   "metadata": {},
   "source": [
    "## Removing unwanted columns"
   ]
  },
  {
   "cell_type": "code",
   "execution_count": 3,
   "id": "3085dec7",
   "metadata": {},
   "outputs": [],
   "source": [
    "hotels.drop(columns=['address','phone'],inplace=True)"
   ]
  },
  {
   "cell_type": "markdown",
   "id": "9c2c197b",
   "metadata": {},
   "source": [
    "## Rename columns"
   ]
  },
  {
   "cell_type": "code",
   "execution_count": 4,
   "id": "152083ca",
   "metadata": {},
   "outputs": [],
   "source": [
    "hotels.rename(columns={'rate':'rating','approx_cost(for two people)':'approx_cost','listed_in(type)':'type'},inplace=True)"
   ]
  },
  {
   "cell_type": "code",
   "execution_count": 5,
   "id": "a0929984",
   "metadata": {},
   "outputs": [
    {
     "data": {
      "text/plain": [
       "Index(['name', 'online_order', 'book_table', 'rating', 'votes', 'location',\n",
       "       'rest_type', 'dish_liked', 'cuisines', 'approx_cost', 'type'],\n",
       "      dtype='object')"
      ]
     },
     "execution_count": 5,
     "metadata": {},
     "output_type": "execute_result"
    }
   ],
   "source": [
    "hotels.columns"
   ]
  },
  {
   "cell_type": "markdown",
   "id": "5441477b",
   "metadata": {},
   "source": [
    "## Handling null values"
   ]
  },
  {
   "cell_type": "code",
   "execution_count": 6,
   "id": "359cc0e7",
   "metadata": {},
   "outputs": [
    {
     "data": {
      "text/plain": [
       "name               16\n",
       "online_order       19\n",
       "book_table         58\n",
       "rating           7838\n",
       "votes              78\n",
       "location          126\n",
       "rest_type         338\n",
       "dish_liked      28225\n",
       "cuisines          203\n",
       "approx_cost       521\n",
       "type             4610\n",
       "dtype: int64"
      ]
     },
     "execution_count": 6,
     "metadata": {},
     "output_type": "execute_result"
    }
   ],
   "source": [
    "hotels.isna().sum()"
   ]
  },
  {
   "cell_type": "code",
   "execution_count": 7,
   "id": "d6dc0386",
   "metadata": {},
   "outputs": [],
   "source": [
    "# Handling null values\n",
    "hotels.dropna(subset=['name'],inplace=True)\n",
    "hotels['online_order']=hotels['online_order'].fillna('NA')\n",
    "#handling null values of book_table\n",
    "hotels['book_table']=hotels['book_table'].fillna('NA')\n",
    "#handling null values of rating\n",
    "hotels['rating']=hotels['rating'].fillna(0)\n",
    "#handling null values of votes\n",
    "hotels['votes']=hotels['votes'].fillna(0)\n",
    "#handling null values of location\n",
    "hotels['location']=hotels['location'].fillna('NA')\n",
    "#handling null values of rest_type\n",
    "hotels['rest_type']=hotels['rest_type'].fillna('NA')\n",
    "#handling null values of dishliked\n",
    "hotels['dish_liked']=hotels['dish_liked'].fillna('NA')\n",
    "#handling null values of cuisines\n",
    "hotels['cuisines']=hotels['cuisines'].fillna('NA')\n",
    "#handling null values of approxcost\n",
    "hotels['approx_cost']=hotels['approx_cost'].fillna(0)\n",
    "#handling null values of type\n",
    "hotels['type']=hotels['type'].fillna('NA')"
   ]
  },
  {
   "cell_type": "code",
   "execution_count": 8,
   "id": "4eab26e1",
   "metadata": {},
   "outputs": [
    {
     "data": {
      "text/plain": [
       "name            0\n",
       "online_order    0\n",
       "book_table      0\n",
       "rating          0\n",
       "votes           0\n",
       "location        0\n",
       "rest_type       0\n",
       "dish_liked      0\n",
       "cuisines        0\n",
       "approx_cost     0\n",
       "type            0\n",
       "dtype: int64"
      ]
     },
     "execution_count": 8,
     "metadata": {},
     "output_type": "execute_result"
    }
   ],
   "source": [
    "hotels.isna().sum()"
   ]
  },
  {
   "cell_type": "markdown",
   "id": "b5c1b279",
   "metadata": {},
   "source": [
    "## Remove duplicates"
   ]
  },
  {
   "cell_type": "code",
   "execution_count": 9,
   "id": "a55bdd85",
   "metadata": {},
   "outputs": [],
   "source": [
    "#Find and drop duplicates\n",
    "hotels.drop_duplicates(inplace=True)"
   ]
  },
  {
   "cell_type": "code",
   "execution_count": 10,
   "id": "0fb8155b",
   "metadata": {},
   "outputs": [
    {
     "data": {
      "text/plain": [
       "(38413, 11)"
      ]
     },
     "execution_count": 10,
     "metadata": {},
     "output_type": "execute_result"
    }
   ],
   "source": [
    "hotels.shape"
   ]
  },
  {
   "cell_type": "markdown",
   "id": "e9a07650",
   "metadata": {},
   "source": [
    "## Text cleaning"
   ]
  },
  {
   "cell_type": "code",
   "execution_count": 11,
   "id": "2f425288",
   "metadata": {},
   "outputs": [],
   "source": [
    "#Remove irrelevant text\n",
    "hotels = hotels[hotels['name'].str.contains('rated', case=False)==False]\n",
    "hotels = hotels[hotels['online_order'].str.contains('rated', case=False)==False]\n",
    "hotels = hotels[hotels['book_table'].str.contains('rated', case=False)==False]\n",
    "hotels = hotels[hotels['rating'].str.contains('rated', case=False)==False]\n",
    "hotels = hotels[hotels['votes'].str.contains('rated', case=False)==False]\n",
    "hotels = hotels[hotels['location'].str.contains('rated', case=False)==False]\n",
    "hotels = hotels[hotels['rest_type'].str.contains('rated', case=False)==False]\n",
    "hotels = hotels[hotels['dish_liked'].str.contains('rated', case=False)==False]\n",
    "hotels = hotels[hotels['cuisines'].str.contains('rated', case=False)==False]\n",
    "hotels = hotels[hotels['approx_cost'].str.contains('rated', case=False)==False]\n",
    "hotels = hotels[hotels['type'].str.contains('rated', case=False)==False]"
   ]
  },
  {
   "cell_type": "code",
   "execution_count": 12,
   "id": "6fd9f043",
   "metadata": {},
   "outputs": [
    {
     "data": {
      "text/plain": [
       "(30340, 11)"
      ]
     },
     "execution_count": 12,
     "metadata": {},
     "output_type": "execute_result"
    }
   ],
   "source": [
    "hotels.shape"
   ]
  },
  {
   "cell_type": "code",
   "execution_count": 13,
   "id": "9024e9e8",
   "metadata": {},
   "outputs": [
    {
     "data": {
      "text/html": [
       "<div>\n",
       "<style scoped>\n",
       "    .dataframe tbody tr th:only-of-type {\n",
       "        vertical-align: middle;\n",
       "    }\n",
       "\n",
       "    .dataframe tbody tr th {\n",
       "        vertical-align: top;\n",
       "    }\n",
       "\n",
       "    .dataframe thead th {\n",
       "        text-align: right;\n",
       "    }\n",
       "</style>\n",
       "<table border=\"1\" class=\"dataframe\">\n",
       "  <thead>\n",
       "    <tr style=\"text-align: right;\">\n",
       "      <th></th>\n",
       "      <th>name</th>\n",
       "      <th>online_order</th>\n",
       "      <th>book_table</th>\n",
       "      <th>rating</th>\n",
       "      <th>votes</th>\n",
       "      <th>location</th>\n",
       "      <th>rest_type</th>\n",
       "      <th>dish_liked</th>\n",
       "      <th>cuisines</th>\n",
       "      <th>approx_cost</th>\n",
       "      <th>type</th>\n",
       "    </tr>\n",
       "  </thead>\n",
       "  <tbody>\n",
       "    <tr>\n",
       "      <th>0</th>\n",
       "      <td>Jalsa</td>\n",
       "      <td>Yes</td>\n",
       "      <td>Yes</td>\n",
       "      <td>4.1/5</td>\n",
       "      <td>775</td>\n",
       "      <td>Banashankari</td>\n",
       "      <td>Casual Dining</td>\n",
       "      <td>Pasta, Lunch Buffet, Masala Papad, Paneer Laja...</td>\n",
       "      <td>North Indian, Mughlai, Chinese</td>\n",
       "      <td>800</td>\n",
       "      <td>Buffet</td>\n",
       "    </tr>\n",
       "    <tr>\n",
       "      <th>1</th>\n",
       "      <td>Spice Elephant</td>\n",
       "      <td>Yes</td>\n",
       "      <td>No</td>\n",
       "      <td>4.1/5</td>\n",
       "      <td>787</td>\n",
       "      <td>Banashankari</td>\n",
       "      <td>Casual Dining</td>\n",
       "      <td>Momos, Lunch Buffet, Chocolate Nirvana, Thai G...</td>\n",
       "      <td>Chinese, North Indian, Thai</td>\n",
       "      <td>800</td>\n",
       "      <td>Buffet</td>\n",
       "    </tr>\n",
       "    <tr>\n",
       "      <th>2</th>\n",
       "      <td>San Churro Cafe</td>\n",
       "      <td>Yes</td>\n",
       "      <td>No</td>\n",
       "      <td>3.8/5</td>\n",
       "      <td>918</td>\n",
       "      <td>Banashankari</td>\n",
       "      <td>Cafe, Casual Dining</td>\n",
       "      <td>Churros, Cannelloni, Minestrone Soup, Hot Choc...</td>\n",
       "      <td>Cafe, Mexican, Italian</td>\n",
       "      <td>800</td>\n",
       "      <td>Buffet</td>\n",
       "    </tr>\n",
       "    <tr>\n",
       "      <th>3</th>\n",
       "      <td>Addhuri Udupi Bhojana</td>\n",
       "      <td>No</td>\n",
       "      <td>No</td>\n",
       "      <td>3.7/5</td>\n",
       "      <td>88</td>\n",
       "      <td>Banashankari</td>\n",
       "      <td>Quick Bites</td>\n",
       "      <td>Masala Dosa</td>\n",
       "      <td>South Indian, North Indian</td>\n",
       "      <td>300</td>\n",
       "      <td>Buffet</td>\n",
       "    </tr>\n",
       "    <tr>\n",
       "      <th>4</th>\n",
       "      <td>Grand Village</td>\n",
       "      <td>No</td>\n",
       "      <td>No</td>\n",
       "      <td>3.8/5</td>\n",
       "      <td>166</td>\n",
       "      <td>Basavanagudi</td>\n",
       "      <td>Casual Dining</td>\n",
       "      <td>Panipuri, Gol Gappe</td>\n",
       "      <td>North Indian, Rajasthani</td>\n",
       "      <td>600</td>\n",
       "      <td>Buffet</td>\n",
       "    </tr>\n",
       "    <tr>\n",
       "      <th>...</th>\n",
       "      <td>...</td>\n",
       "      <td>...</td>\n",
       "      <td>...</td>\n",
       "      <td>...</td>\n",
       "      <td>...</td>\n",
       "      <td>...</td>\n",
       "      <td>...</td>\n",
       "      <td>...</td>\n",
       "      <td>...</td>\n",
       "      <td>...</td>\n",
       "      <td>...</td>\n",
       "    </tr>\n",
       "    <tr>\n",
       "      <th>56244</th>\n",
       "      <td>The Farm House Bar n Grill</td>\n",
       "      <td>No</td>\n",
       "      <td>No</td>\n",
       "      <td>3.7 /5</td>\n",
       "      <td>34</td>\n",
       "      <td>Whitefield</td>\n",
       "      <td>Casual Dining, Bar</td>\n",
       "      <td>NA</td>\n",
       "      <td>North Indian, Continental</td>\n",
       "      <td>800</td>\n",
       "      <td>Pubs and bars</td>\n",
       "    </tr>\n",
       "    <tr>\n",
       "      <th>56246</th>\n",
       "      <td>Bhagini</td>\n",
       "      <td>No</td>\n",
       "      <td>No</td>\n",
       "      <td>2.5 /5</td>\n",
       "      <td>81</td>\n",
       "      <td>Whitefield</td>\n",
       "      <td>Casual Dining, Bar</td>\n",
       "      <td>Biryani, Andhra Meal</td>\n",
       "      <td>Andhra, South Indian, Chinese, North Indian</td>\n",
       "      <td>800</td>\n",
       "      <td>Pubs and bars</td>\n",
       "    </tr>\n",
       "    <tr>\n",
       "      <th>56247</th>\n",
       "      <td>Best Brews - Four Points by Sheraton Bengaluru...</td>\n",
       "      <td>No</td>\n",
       "      <td>No</td>\n",
       "      <td>3.6 /5</td>\n",
       "      <td>27</td>\n",
       "      <td>Whitefield</td>\n",
       "      <td>Bar</td>\n",
       "      <td>NA</td>\n",
       "      <td>Continental</td>\n",
       "      <td>1,500</td>\n",
       "      <td>Pubs and bars</td>\n",
       "    </tr>\n",
       "    <tr>\n",
       "      <th>56250</th>\n",
       "      <td>Chime - Sheraton Grand Bengaluru Whitefield Ho...</td>\n",
       "      <td>No</td>\n",
       "      <td>Yes</td>\n",
       "      <td>4.3 /5</td>\n",
       "      <td>236</td>\n",
       "      <td>ITPL Main Road, Whitefield</td>\n",
       "      <td>Bar</td>\n",
       "      <td>Cocktails, Pizza, Buttermilk</td>\n",
       "      <td>Finger Food</td>\n",
       "      <td>2,500</td>\n",
       "      <td>Pubs and bars</td>\n",
       "    </tr>\n",
       "    <tr>\n",
       "      <th>56251</th>\n",
       "      <td>The Nest - The Den Bengaluru</td>\n",
       "      <td>No</td>\n",
       "      <td>No</td>\n",
       "      <td>3.4 /5</td>\n",
       "      <td>13</td>\n",
       "      <td>ITPL Main Road, Whitefield</td>\n",
       "      <td>Bar, Casual Dining</td>\n",
       "      <td>NA</td>\n",
       "      <td>Finger Food, North Indian, Continental</td>\n",
       "      <td>1,500</td>\n",
       "      <td>Pubs and bars</td>\n",
       "    </tr>\n",
       "  </tbody>\n",
       "</table>\n",
       "<p>30340 rows × 11 columns</p>\n",
       "</div>"
      ],
      "text/plain": [
       "                                                    name online_order  \\\n",
       "0                                                  Jalsa          Yes   \n",
       "1                                         Spice Elephant          Yes   \n",
       "2                                        San Churro Cafe          Yes   \n",
       "3                                  Addhuri Udupi Bhojana           No   \n",
       "4                                          Grand Village           No   \n",
       "...                                                  ...          ...   \n",
       "56244                         The Farm House Bar n Grill           No   \n",
       "56246                                            Bhagini           No   \n",
       "56247  Best Brews - Four Points by Sheraton Bengaluru...           No   \n",
       "56250  Chime - Sheraton Grand Bengaluru Whitefield Ho...           No   \n",
       "56251                       The Nest - The Den Bengaluru           No   \n",
       "\n",
       "      book_table  rating votes                    location  \\\n",
       "0            Yes   4.1/5   775                Banashankari   \n",
       "1             No   4.1/5   787                Banashankari   \n",
       "2             No   3.8/5   918                Banashankari   \n",
       "3             No   3.7/5    88                Banashankari   \n",
       "4             No   3.8/5   166                Basavanagudi   \n",
       "...          ...     ...   ...                         ...   \n",
       "56244         No  3.7 /5    34                  Whitefield   \n",
       "56246         No  2.5 /5    81                  Whitefield   \n",
       "56247         No  3.6 /5    27                  Whitefield   \n",
       "56250        Yes  4.3 /5   236  ITPL Main Road, Whitefield   \n",
       "56251         No  3.4 /5    13  ITPL Main Road, Whitefield   \n",
       "\n",
       "                 rest_type                                         dish_liked  \\\n",
       "0            Casual Dining  Pasta, Lunch Buffet, Masala Papad, Paneer Laja...   \n",
       "1            Casual Dining  Momos, Lunch Buffet, Chocolate Nirvana, Thai G...   \n",
       "2      Cafe, Casual Dining  Churros, Cannelloni, Minestrone Soup, Hot Choc...   \n",
       "3              Quick Bites                                        Masala Dosa   \n",
       "4            Casual Dining                                Panipuri, Gol Gappe   \n",
       "...                    ...                                                ...   \n",
       "56244   Casual Dining, Bar                                                 NA   \n",
       "56246   Casual Dining, Bar                               Biryani, Andhra Meal   \n",
       "56247                  Bar                                                 NA   \n",
       "56250                  Bar                       Cocktails, Pizza, Buttermilk   \n",
       "56251   Bar, Casual Dining                                                 NA   \n",
       "\n",
       "                                          cuisines approx_cost           type  \n",
       "0                   North Indian, Mughlai, Chinese         800         Buffet  \n",
       "1                      Chinese, North Indian, Thai         800         Buffet  \n",
       "2                           Cafe, Mexican, Italian         800         Buffet  \n",
       "3                       South Indian, North Indian         300         Buffet  \n",
       "4                         North Indian, Rajasthani         600         Buffet  \n",
       "...                                            ...         ...            ...  \n",
       "56244                    North Indian, Continental         800  Pubs and bars  \n",
       "56246  Andhra, South Indian, Chinese, North Indian         800  Pubs and bars  \n",
       "56247                                  Continental       1,500  Pubs and bars  \n",
       "56250                                  Finger Food       2,500  Pubs and bars  \n",
       "56251       Finger Food, North Indian, Continental       1,500  Pubs and bars  \n",
       "\n",
       "[30340 rows x 11 columns]"
      ]
     },
     "execution_count": 13,
     "metadata": {},
     "output_type": "execute_result"
    }
   ],
   "source": [
    "hotels"
   ]
  },
  {
   "cell_type": "code",
   "execution_count": 14,
   "id": "e3542f41",
   "metadata": {},
   "outputs": [],
   "source": [
    "#Unique value check and irrelavant value handling\n",
    "valid_values=['No','Yes']\n",
    "hotels=hotels.drop(hotels[~(hotels['online_order'].isin(valid_values))].index.tolist())"
   ]
  },
  {
   "cell_type": "code",
   "execution_count": 15,
   "id": "226c1a10",
   "metadata": {},
   "outputs": [
    {
     "data": {
      "text/plain": [
       "Yes    19519\n",
       "No     10817\n",
       "Name: online_order, dtype: int64"
      ]
     },
     "execution_count": 15,
     "metadata": {},
     "output_type": "execute_result"
    }
   ],
   "source": [
    "hotels['online_order'].value_counts()"
   ]
  },
  {
   "cell_type": "code",
   "execution_count": 16,
   "id": "cf744cd2",
   "metadata": {},
   "outputs": [],
   "source": [
    "hotels = hotels[~hotels['rating'].str.contains('[a-zS]')]\n",
    "hotels['rating'] = hotels['rating'].replace(['-', 'NEW'], '0')\n",
    "hotels['rating'] = hotels['rating'].str.replace('/5', '')\n",
    "def convert_to_int(x):\n",
    "    if x == '0':\n",
    "        return 0\n",
    "    else:\n",
    "        return x\n",
    "\n",
    "hotels['rating'] = hotels['rating'].apply(convert_to_int)"
   ]
  },
  {
   "cell_type": "code",
   "execution_count": 17,
   "id": "c2accbe4",
   "metadata": {},
   "outputs": [
    {
     "data": {
      "text/plain": [
       "array(['4.1', '3.8', '3.7', '3.6', '4.6', '4.0', '4.2', '3.9', '3.1',\n",
       "       '3.0', '3.2', '3.3', '2.8', '4.4', '4.3', 0, '2.9', '3.5', '2.6',\n",
       "       '3.8 ', '3.4', '4.5', '2.5', '2.7', '4.7', '2.4', '2.2', '2.3',\n",
       "       '3.4 ', '3.6 ', '4.8', '3.9 ', '4.2 ', '4.0 ', '4.1 ', '3.7 ',\n",
       "       '3.1 ', '2.9 ', '3.3 ', '2.8 ', '3.5 ', '2.7 ', '2.5 ', '3.2 ',\n",
       "       '2.6 ', '4.5 ', '4.3 ', '4.4 ', '4.9', '2.1', '2.0', '1.8', '4.6 ',\n",
       "       '4.9 ', '3.0 ', '4.8 ', '2.3 ', '4.7 ', '2.4 ', '2.1 ', '2.2 ',\n",
       "       '2.0 ', '1.8 '], dtype=object)"
      ]
     },
     "execution_count": 17,
     "metadata": {},
     "output_type": "execute_result"
    }
   ],
   "source": [
    "hotels['rating'].unique()"
   ]
  },
  {
   "cell_type": "code",
   "execution_count": 18,
   "id": "e9d1173b",
   "metadata": {},
   "outputs": [
    {
     "data": {
      "text/plain": [
       "(30336, 11)"
      ]
     },
     "execution_count": 18,
     "metadata": {},
     "output_type": "execute_result"
    }
   ],
   "source": [
    "hotels.shape"
   ]
  },
  {
   "cell_type": "code",
   "execution_count": 19,
   "id": "e9761232",
   "metadata": {},
   "outputs": [
    {
     "data": {
      "text/plain": [
       "0                                                    Jalsa\n",
       "1                                           Spice Elephant\n",
       "2                                          San Churro Cafe\n",
       "3                                    Addhuri Udupi Bhojana\n",
       "4                                            Grand Village\n",
       "                               ...                        \n",
       "56244                           The Farm House Bar n Grill\n",
       "56246                                              Bhagini\n",
       "56247    Best Brews - Four Points by Sheraton Bengaluru...\n",
       "56250    Chime - Sheraton Grand Bengaluru Whitefield Ho...\n",
       "56251                         The Nest - The Den Bengaluru\n",
       "Name: name, Length: 30336, dtype: object"
      ]
     },
     "execution_count": 19,
     "metadata": {},
     "output_type": "execute_result"
    }
   ],
   "source": [
    "hotels['name']"
   ]
  },
  {
   "cell_type": "code",
   "execution_count": 20,
   "id": "bf08d890",
   "metadata": {},
   "outputs": [],
   "source": [
    "# Remove unknown character\n",
    "hotels['name'] = hotels['name'].str.replace('[Ãx][^A-Za-z]+','',regex=True)"
   ]
  },
  {
   "cell_type": "code",
   "execution_count": 21,
   "id": "b1d787a5",
   "metadata": {},
   "outputs": [
    {
     "data": {
      "text/plain": [
       "(30336, 11)"
      ]
     },
     "execution_count": 21,
     "metadata": {},
     "output_type": "execute_result"
    }
   ],
   "source": [
    "hotels.shape"
   ]
  },
  {
   "cell_type": "code",
   "execution_count": null,
   "id": "5dbb87cc",
   "metadata": {},
   "outputs": [],
   "source": []
  }
 ],
 "metadata": {
  "kernelspec": {
   "display_name": "Python 3 (ipykernel)",
   "language": "python",
   "name": "python3"
  },
  "language_info": {
   "codemirror_mode": {
    "name": "ipython",
    "version": 3
   },
   "file_extension": ".py",
   "mimetype": "text/x-python",
   "name": "python",
   "nbconvert_exporter": "python",
   "pygments_lexer": "ipython3",
   "version": "3.9.13"
  }
 },
 "nbformat": 4,
 "nbformat_minor": 5
}
